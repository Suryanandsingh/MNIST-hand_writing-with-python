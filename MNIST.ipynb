{
 "cells": [
  {
   "cell_type": "code",
   "execution_count": 1,
   "metadata": {
    "scrolled": false
   },
   "outputs": [
    {
     "name": "stderr",
     "output_type": "stream",
     "text": [
      "Using TensorFlow backend.\n"
     ]
    }
   ],
   "source": [
    "#load some libraries\n",
    "import numpy as np\n",
    "import matplotlib.pyplot as plt\n",
    "import seaborn as sb\n",
    "from keras.utils.np_utils import to_categorical\n",
    "import pandas as pd"
   ]
  },
  {
   "cell_type": "code",
   "execution_count": 2,
   "metadata": {},
   "outputs": [
    {
     "data": {
      "text/html": [
       "<div>\n",
       "<style>\n",
       "    .dataframe thead tr:only-child th {\n",
       "        text-align: right;\n",
       "    }\n",
       "\n",
       "    .dataframe thead th {\n",
       "        text-align: left;\n",
       "    }\n",
       "\n",
       "    .dataframe tbody tr th {\n",
       "        vertical-align: top;\n",
       "    }\n",
       "</style>\n",
       "<table border=\"1\" class=\"dataframe\">\n",
       "  <thead>\n",
       "    <tr style=\"text-align: right;\">\n",
       "      <th></th>\n",
       "      <th>label</th>\n",
       "      <th>pixel0</th>\n",
       "      <th>pixel1</th>\n",
       "      <th>pixel2</th>\n",
       "      <th>pixel3</th>\n",
       "      <th>pixel4</th>\n",
       "      <th>pixel5</th>\n",
       "      <th>pixel6</th>\n",
       "      <th>pixel7</th>\n",
       "      <th>pixel8</th>\n",
       "      <th>...</th>\n",
       "      <th>pixel774</th>\n",
       "      <th>pixel775</th>\n",
       "      <th>pixel776</th>\n",
       "      <th>pixel777</th>\n",
       "      <th>pixel778</th>\n",
       "      <th>pixel779</th>\n",
       "      <th>pixel780</th>\n",
       "      <th>pixel781</th>\n",
       "      <th>pixel782</th>\n",
       "      <th>pixel783</th>\n",
       "    </tr>\n",
       "  </thead>\n",
       "  <tbody>\n",
       "    <tr>\n",
       "      <th>0</th>\n",
       "      <td>1</td>\n",
       "      <td>0</td>\n",
       "      <td>0</td>\n",
       "      <td>0</td>\n",
       "      <td>0</td>\n",
       "      <td>0</td>\n",
       "      <td>0</td>\n",
       "      <td>0</td>\n",
       "      <td>0</td>\n",
       "      <td>0</td>\n",
       "      <td>...</td>\n",
       "      <td>0</td>\n",
       "      <td>0</td>\n",
       "      <td>0</td>\n",
       "      <td>0</td>\n",
       "      <td>0</td>\n",
       "      <td>0</td>\n",
       "      <td>0</td>\n",
       "      <td>0</td>\n",
       "      <td>0</td>\n",
       "      <td>0</td>\n",
       "    </tr>\n",
       "    <tr>\n",
       "      <th>1</th>\n",
       "      <td>0</td>\n",
       "      <td>0</td>\n",
       "      <td>0</td>\n",
       "      <td>0</td>\n",
       "      <td>0</td>\n",
       "      <td>0</td>\n",
       "      <td>0</td>\n",
       "      <td>0</td>\n",
       "      <td>0</td>\n",
       "      <td>0</td>\n",
       "      <td>...</td>\n",
       "      <td>0</td>\n",
       "      <td>0</td>\n",
       "      <td>0</td>\n",
       "      <td>0</td>\n",
       "      <td>0</td>\n",
       "      <td>0</td>\n",
       "      <td>0</td>\n",
       "      <td>0</td>\n",
       "      <td>0</td>\n",
       "      <td>0</td>\n",
       "    </tr>\n",
       "    <tr>\n",
       "      <th>2</th>\n",
       "      <td>1</td>\n",
       "      <td>0</td>\n",
       "      <td>0</td>\n",
       "      <td>0</td>\n",
       "      <td>0</td>\n",
       "      <td>0</td>\n",
       "      <td>0</td>\n",
       "      <td>0</td>\n",
       "      <td>0</td>\n",
       "      <td>0</td>\n",
       "      <td>...</td>\n",
       "      <td>0</td>\n",
       "      <td>0</td>\n",
       "      <td>0</td>\n",
       "      <td>0</td>\n",
       "      <td>0</td>\n",
       "      <td>0</td>\n",
       "      <td>0</td>\n",
       "      <td>0</td>\n",
       "      <td>0</td>\n",
       "      <td>0</td>\n",
       "    </tr>\n",
       "    <tr>\n",
       "      <th>3</th>\n",
       "      <td>4</td>\n",
       "      <td>0</td>\n",
       "      <td>0</td>\n",
       "      <td>0</td>\n",
       "      <td>0</td>\n",
       "      <td>0</td>\n",
       "      <td>0</td>\n",
       "      <td>0</td>\n",
       "      <td>0</td>\n",
       "      <td>0</td>\n",
       "      <td>...</td>\n",
       "      <td>0</td>\n",
       "      <td>0</td>\n",
       "      <td>0</td>\n",
       "      <td>0</td>\n",
       "      <td>0</td>\n",
       "      <td>0</td>\n",
       "      <td>0</td>\n",
       "      <td>0</td>\n",
       "      <td>0</td>\n",
       "      <td>0</td>\n",
       "    </tr>\n",
       "    <tr>\n",
       "      <th>4</th>\n",
       "      <td>0</td>\n",
       "      <td>0</td>\n",
       "      <td>0</td>\n",
       "      <td>0</td>\n",
       "      <td>0</td>\n",
       "      <td>0</td>\n",
       "      <td>0</td>\n",
       "      <td>0</td>\n",
       "      <td>0</td>\n",
       "      <td>0</td>\n",
       "      <td>...</td>\n",
       "      <td>0</td>\n",
       "      <td>0</td>\n",
       "      <td>0</td>\n",
       "      <td>0</td>\n",
       "      <td>0</td>\n",
       "      <td>0</td>\n",
       "      <td>0</td>\n",
       "      <td>0</td>\n",
       "      <td>0</td>\n",
       "      <td>0</td>\n",
       "    </tr>\n",
       "  </tbody>\n",
       "</table>\n",
       "<p>5 rows × 785 columns</p>\n",
       "</div>"
      ],
      "text/plain": [
       "   label  pixel0  pixel1  pixel2  pixel3  pixel4  pixel5  pixel6  pixel7  \\\n",
       "0      1       0       0       0       0       0       0       0       0   \n",
       "1      0       0       0       0       0       0       0       0       0   \n",
       "2      1       0       0       0       0       0       0       0       0   \n",
       "3      4       0       0       0       0       0       0       0       0   \n",
       "4      0       0       0       0       0       0       0       0       0   \n",
       "\n",
       "   pixel8    ...     pixel774  pixel775  pixel776  pixel777  pixel778  \\\n",
       "0       0    ...            0         0         0         0         0   \n",
       "1       0    ...            0         0         0         0         0   \n",
       "2       0    ...            0         0         0         0         0   \n",
       "3       0    ...            0         0         0         0         0   \n",
       "4       0    ...            0         0         0         0         0   \n",
       "\n",
       "   pixel779  pixel780  pixel781  pixel782  pixel783  \n",
       "0         0         0         0         0         0  \n",
       "1         0         0         0         0         0  \n",
       "2         0         0         0         0         0  \n",
       "3         0         0         0         0         0  \n",
       "4         0         0         0         0         0  \n",
       "\n",
       "[5 rows x 785 columns]"
      ]
     },
     "execution_count": 2,
     "metadata": {},
     "output_type": "execute_result"
    }
   ],
   "source": [
    "#load dataset of MNIST\n",
    "data = pd.read_csv('MNIST.csv')\n",
    "data.head()"
   ]
  },
  {
   "cell_type": "code",
   "execution_count": 3,
   "metadata": {},
   "outputs": [
    {
     "data": {
      "text/plain": [
       "(42000, 785)"
      ]
     },
     "execution_count": 3,
     "metadata": {},
     "output_type": "execute_result"
    }
   ],
   "source": [
    "#shape of dataset\n",
    "data.shape"
   ]
  },
  {
   "cell_type": "code",
   "execution_count": 4,
   "metadata": {
    "scrolled": true
   },
   "outputs": [
    {
     "data": {
      "text/plain": [
       "count       785\n",
       "unique        1\n",
       "top       False\n",
       "freq        785\n",
       "dtype: object"
      ]
     },
     "execution_count": 4,
     "metadata": {},
     "output_type": "execute_result"
    }
   ],
   "source": [
    "#check  mising values\n",
    "data.isnull().any().describe()"
   ]
  },
  {
   "cell_type": "markdown",
   "metadata": {},
   "source": [
    "There is no any missing values"
   ]
  },
  {
   "cell_type": "code",
   "execution_count": 5,
   "metadata": {
    "scrolled": true
   },
   "outputs": [
    {
     "data": {
      "text/plain": [
       "1    4684\n",
       "7    4401\n",
       "3    4351\n",
       "9    4188\n",
       "2    4177\n",
       "6    4137\n",
       "0    4132\n",
       "4    4072\n",
       "8    4063\n",
       "5    3795\n",
       "Name: label, dtype: int64"
      ]
     },
     "execution_count": 5,
     "metadata": {},
     "output_type": "execute_result"
    }
   ],
   "source": [
    "#Count the values of target variable\n",
    "data.label.value_counts()"
   ]
  },
  {
   "cell_type": "code",
   "execution_count": 6,
   "metadata": {
    "scrolled": true
   },
   "outputs": [
    {
     "data": {
      "image/png": "[encoded data removed]",
      "text/plain": [
       "<matplotlib.figure.Figure at 0x7f5e9b405710>"
      ]
     },
     "metadata": {},
     "output_type": "display_data"
    }
   ],
   "source": [
    "#count plot for target \n",
    "plt.style.use('ggplot')\n",
    "sb.countplot(x='label', data=data)\n",
    "plt.show()"
   ]
  },
  {
   "cell_type": "markdown",
   "metadata": {},
   "source": [
    "## Let's prepare data for prediction"
   ]
  },
  {
   "cell_type": "code",
   "execution_count": 7,
   "metadata": {
    "collapsed": true
   },
   "outputs": [],
   "source": [
    "#separate the data with features and target\n",
    "X = data.iloc[:, 1:].values\n",
    "y = data.iloc[:, 0].values"
   ]
  },
  {
   "cell_type": "code",
   "execution_count": 8,
   "metadata": {
    "collapsed": true
   },
   "outputs": [],
   "source": [
    "#one hot embedding\n",
    "#ex :- 2 [0, 0, 1, 0, ......., 0]\n",
    "y = to_categorical(y)"
   ]
  },
  {
   "cell_type": "code",
   "execution_count": 9,
   "metadata": {
    "collapsed": true
   },
   "outputs": [],
   "source": [
    "#Split the data into test and train format\n",
    "from sklearn.model_selection import train_test_split\n",
    "X_train, X_test, y_train, y_test = train_test_split(X, y, test_size=0.20, random_state=7)"
   ]
  },
  {
   "cell_type": "code",
   "execution_count": 10,
   "metadata": {
    "collapsed": true
   },
   "outputs": [],
   "source": [
    "#load keras library\n",
    "from keras.models import Sequential\n",
    "from keras.layers import Dense"
   ]
  },
  {
   "cell_type": "code",
   "execution_count": 11,
   "metadata": {},
   "outputs": [
    {
     "name": "stderr",
     "output_type": "stream",
     "text": [
      "/home/surya/anaconda3/lib/python3.6/site-packages/ipykernel_launcher.py:2: UserWarning: Update your `Dense` call to the Keras 2 API: `Dense(64, input_dim=784, activation=\"relu\", kernel_initializer=\"uniform\")`\n",
      "  \n",
      "/home/surya/anaconda3/lib/python3.6/site-packages/ipykernel_launcher.py:3: UserWarning: Update your `Dense` call to the Keras 2 API: `Dense(32, activation=\"relu\", kernel_initializer=\"uniform\")`\n",
      "  This is separate from the ipykernel package so we can avoid doing imports until\n",
      "/home/surya/anaconda3/lib/python3.6/site-packages/ipykernel_launcher.py:4: UserWarning: Update your `Dense` call to the Keras 2 API: `Dense(16, activation=\"relu\", kernel_initializer=\"uniform\")`\n",
      "  after removing the cwd from sys.path.\n"
     ]
    }
   ],
   "source": [
    "model = Sequential()\n",
    "model.add(Dense(64, input_dim=784, init='uniform', activation='relu'))\n",
    "model.add(Dense(32, init='uniform', activation='relu'))\n",
    "model.add(Dense(16, init='uniform', activation='relu'))\n",
    "model.add(Dense(10, activation='softmax'))"
   ]
  },
  {
   "cell_type": "code",
   "execution_count": 12,
   "metadata": {
    "collapsed": true
   },
   "outputs": [],
   "source": [
    "model.compile(optimizer='adam', loss='categorical_crossentropy',metrics=['accuracy'])"
   ]
  },
  {
   "cell_type": "code",
   "execution_count": 13,
   "metadata": {
    "scrolled": false
   },
   "outputs": [
    {
     "name": "stdout",
     "output_type": "stream",
     "text": [
      "_________________________________________________________________\n",
      "Layer (type)                 Output Shape              Param #   \n",
      "=================================================================\n",
      "dense_1 (Dense)              (None, 64)                50240     \n",
      "_________________________________________________________________\n",
      "dense_2 (Dense)              (None, 32)                2080      \n",
      "_________________________________________________________________\n",
      "dense_3 (Dense)              (None, 16)                528       \n",
      "_________________________________________________________________\n",
      "dense_4 (Dense)              (None, 10)                170       \n",
      "=================================================================\n",
      "Total params: 53,018\n",
      "Trainable params: 53,018\n",
      "Non-trainable params: 0\n",
      "_________________________________________________________________\n"
     ]
    }
   ],
   "source": [
    "model.summary()"
   ]
  },
  {
   "cell_type": "code",
   "execution_count": 14,
   "metadata": {
    "scrolled": true
   },
   "outputs": [
    {
     "name": "stdout",
     "output_type": "stream",
     "text": [
      "Epoch 1/100\n",
      "33600/33600 [==============================] - 4s 121us/step - loss: 0.3481 - acc: 0.8977\n",
      "Epoch 2/100\n",
      "33600/33600 [==============================] - 4s 116us/step - loss: 0.1601 - acc: 0.9517\n",
      "Epoch 3/100\n",
      "33600/33600 [==============================] - 4s 107us/step - loss: 0.1239 - acc: 0.9632\n",
      "Epoch 4/100\n",
      "33600/33600 [==============================] - 4s 106us/step - loss: 0.1029 - acc: 0.9690\n",
      "Epoch 5/100\n",
      "33600/33600 [==============================] - 4s 105us/step - loss: 0.0874 - acc: 0.9735\n",
      "Epoch 6/100\n",
      "33600/33600 [==============================] - 4s 105us/step - loss: 0.0804 - acc: 0.9755\n",
      "Epoch 7/100\n",
      "33600/33600 [==============================] - 4s 106us/step - loss: 0.0738 - acc: 0.9775\n",
      "Epoch 8/100\n",
      "33600/33600 [==============================] - 4s 107us/step - loss: 0.0664 - acc: 0.9799\n",
      "Epoch 9/100\n",
      "33600/33600 [==============================] - 4s 104us/step - loss: 0.0605 - acc: 0.9815\n",
      "Epoch 10/100\n",
      "33600/33600 [==============================] - 4s 107us/step - loss: 0.0596 - acc: 0.9824\n",
      "Epoch 11/100\n",
      "33600/33600 [==============================] - 3s 104us/step - loss: 0.0478 - acc: 0.9862\n",
      "Epoch 12/100\n",
      "33600/33600 [==============================] - 4s 104us/step - loss: 0.0402 - acc: 0.9877\n",
      "Epoch 13/100\n",
      "33600/33600 [==============================] - 3s 104us/step - loss: 0.0476 - acc: 0.9856\n",
      "Epoch 14/100\n",
      "33600/33600 [==============================] - 4s 105us/step - loss: 0.0415 - acc: 0.9875\n",
      "Epoch 15/100\n",
      "33600/33600 [==============================] - 4s 106us/step - loss: 0.0444 - acc: 0.9869\n",
      "Epoch 16/100\n",
      "33600/33600 [==============================] - 4s 105us/step - loss: 0.0375 - acc: 0.9890\n",
      "Epoch 17/100\n",
      "33600/33600 [==============================] - 4s 105us/step - loss: 0.0345 - acc: 0.9894\n",
      "Epoch 18/100\n",
      "33600/33600 [==============================] - 4s 106us/step - loss: 0.0337 - acc: 0.9899\n",
      "Epoch 19/100\n",
      "33600/33600 [==============================] - 4s 105us/step - loss: 0.0346 - acc: 0.9898\n",
      "Epoch 20/100\n",
      "33600/33600 [==============================] - 4s 105us/step - loss: 0.0357 - acc: 0.9897\n",
      "Epoch 21/100\n",
      "33600/33600 [==============================] - 4s 105us/step - loss: 0.0317 - acc: 0.9908\n",
      "Epoch 22/100\n",
      "33600/33600 [==============================] - 4s 106us/step - loss: 0.0261 - acc: 0.9921\n",
      "Epoch 23/100\n",
      "33600/33600 [==============================] - 4s 105us/step - loss: 0.0317 - acc: 0.9910\n",
      "Epoch 24/100\n",
      "33600/33600 [==============================] - 4s 105us/step - loss: 0.0239 - acc: 0.9929\n",
      "Epoch 25/100\n",
      "33600/33600 [==============================] - 4s 105us/step - loss: 0.0245 - acc: 0.9930\n",
      "Epoch 26/100\n",
      "33600/33600 [==============================] - 4s 106us/step - loss: 0.0278 - acc: 0.9918\n",
      "Epoch 27/100\n",
      "33600/33600 [==============================] - 4s 104us/step - loss: 0.0186 - acc: 0.9948\n",
      "Epoch 28/100\n",
      "33600/33600 [==============================] - 3s 104us/step - loss: 0.0238 - acc: 0.9929\n",
      "Epoch 29/100\n",
      "33600/33600 [==============================] - 4s 106us/step - loss: 0.0237 - acc: 0.9936\n",
      "Epoch 30/100\n",
      "33600/33600 [==============================] - 4s 106us/step - loss: 0.0290 - acc: 0.9919\n",
      "Epoch 31/100\n",
      "33600/33600 [==============================] - 4s 105us/step - loss: 0.0152 - acc: 0.9956\n",
      "Epoch 32/100\n",
      "33600/33600 [==============================] - 4s 108us/step - loss: 0.0235 - acc: 0.9932\n",
      "Epoch 33/100\n",
      "33600/33600 [==============================] - 4s 121us/step - loss: 0.0251 - acc: 0.9935\n",
      "Epoch 34/100\n",
      "33600/33600 [==============================] - 4s 114us/step - loss: 0.0175 - acc: 0.9948\n",
      "Epoch 35/100\n",
      "33600/33600 [==============================] - 4s 108us/step - loss: 0.0158 - acc: 0.9960\n",
      "Epoch 36/100\n",
      "33600/33600 [==============================] - 4s 113us/step - loss: 0.0168 - acc: 0.9954\n",
      "Epoch 37/100\n",
      "33600/33600 [==============================] - 4s 107us/step - loss: 0.0246 - acc: 0.9931\n",
      "Epoch 38/100\n",
      "33600/33600 [==============================] - 4s 111us/step - loss: 0.0203 - acc: 0.9946\n",
      "Epoch 39/100\n",
      "33600/33600 [==============================] - 4s 108us/step - loss: 0.0168 - acc: 0.9953\n",
      "Epoch 40/100\n",
      "33600/33600 [==============================] - 4s 107us/step - loss: 0.0196 - acc: 0.9949\n",
      "Epoch 41/100\n",
      "33600/33600 [==============================] - 4s 108us/step - loss: 0.0137 - acc: 0.9962\n",
      "Epoch 42/100\n",
      "33600/33600 [==============================] - 4s 117us/step - loss: 0.0199 - acc: 0.9947\n",
      "Epoch 43/100\n",
      "33600/33600 [==============================] - 4s 119us/step - loss: 0.0166 - acc: 0.9951\n",
      "Epoch 44/100\n",
      "33600/33600 [==============================] - 4s 117us/step - loss: 0.0153 - acc: 0.9959\n",
      "Epoch 45/100\n",
      "33600/33600 [==============================] - 4s 118us/step - loss: 0.0194 - acc: 0.9949\n",
      "Epoch 46/100\n",
      "33600/33600 [==============================] - 4s 112us/step - loss: 0.0181 - acc: 0.9953\n",
      "Epoch 47/100\n",
      "33600/33600 [==============================] - 4s 108us/step - loss: 0.0153 - acc: 0.9956\n",
      "Epoch 48/100\n",
      "33600/33600 [==============================] - 4s 112us/step - loss: 0.0134 - acc: 0.9963\n",
      "Epoch 49/100\n",
      "33600/33600 [==============================] - 4s 109us/step - loss: 0.0167 - acc: 0.9955\n",
      "Epoch 50/100\n",
      "33600/33600 [==============================] - 4s 112us/step - loss: 0.0161 - acc: 0.9959\n",
      "Epoch 51/100\n",
      "33600/33600 [==============================] - 4s 108us/step - loss: 0.0165 - acc: 0.9960\n",
      "Epoch 52/100\n",
      "33600/33600 [==============================] - 4s 114us/step - loss: 0.0151 - acc: 0.9961\n",
      "Epoch 53/100\n",
      "33600/33600 [==============================] - 4s 108us/step - loss: 0.0103 - acc: 0.9974\n",
      "Epoch 54/100\n",
      "33600/33600 [==============================] - 4s 113us/step - loss: 0.0192 - acc: 0.9956\n",
      "Epoch 55/100\n",
      "33600/33600 [==============================] - 5s 142us/step - loss: 0.0101 - acc: 0.9973\n",
      "Epoch 56/100\n",
      "33600/33600 [==============================] - 4s 127us/step - loss: 0.0154 - acc: 0.9962\n",
      "Epoch 57/100\n",
      "33600/33600 [==============================] - 4s 126us/step - loss: 0.0125 - acc: 0.9969\n",
      "Epoch 58/100\n",
      "33600/33600 [==============================] - 5s 138us/step - loss: 0.0115 - acc: 0.9971\n",
      "Epoch 59/100\n",
      "33600/33600 [==============================] - 4s 113us/step - loss: 0.0175 - acc: 0.9958\n",
      "Epoch 60/100\n",
      "33600/33600 [==============================] - 4s 108us/step - loss: 0.0111 - acc: 0.9971\n",
      "Epoch 61/100\n",
      "33600/33600 [==============================] - 4s 111us/step - loss: 0.0182 - acc: 0.9957\n",
      "Epoch 62/100\n",
      "33600/33600 [==============================] - 4s 108us/step - loss: 0.0103 - acc: 0.9974\n",
      "Epoch 63/100\n",
      "33600/33600 [==============================] - 4s 115us/step - loss: 0.0122 - acc: 0.9971\n",
      "Epoch 64/100\n",
      "33600/33600 [==============================] - 4s 108us/step - loss: 0.0062 - acc: 0.9985\n",
      "Epoch 65/100\n",
      "33600/33600 [==============================] - 4s 111us/step - loss: 0.0138 - acc: 0.9965\n",
      "Epoch 66/100\n",
      "33600/33600 [==============================] - 5s 142us/step - loss: 0.0113 - acc: 0.9974\n",
      "Epoch 67/100\n",
      "33600/33600 [==============================] - 4s 124us/step - loss: 0.0189 - acc: 0.9958\n",
      "Epoch 68/100\n",
      "33600/33600 [==============================] - 4s 112us/step - loss: 0.0103 - acc: 0.9976\n",
      "Epoch 69/100\n",
      "33600/33600 [==============================] - 4s 106us/step - loss: 0.0119 - acc: 0.9973\n",
      "Epoch 70/100\n",
      "33600/33600 [==============================] - 4s 111us/step - loss: 0.0126 - acc: 0.9969\n",
      "Epoch 71/100\n",
      "33600/33600 [==============================] - 4s 109us/step - loss: 0.0102 - acc: 0.9972\n",
      "Epoch 72/100\n",
      "33600/33600 [==============================] - 4s 111us/step - loss: 0.0118 - acc: 0.9971\n",
      "Epoch 73/100\n",
      "33600/33600 [==============================] - 5s 144us/step - loss: 0.0069 - acc: 0.9985\n",
      "Epoch 74/100\n",
      "33600/33600 [==============================] - 4s 127us/step - loss: 0.0178 - acc: 0.9960\n",
      "Epoch 75/100\n",
      "33600/33600 [==============================] - 4s 114us/step - loss: 0.0094 - acc: 0.9975\n",
      "Epoch 76/100\n",
      "33600/33600 [==============================] - 4s 121us/step - loss: 0.0188 - acc: 0.9959\n",
      "Epoch 77/100\n",
      "33600/33600 [==============================] - 4s 113us/step - loss: 0.0083 - acc: 0.9979\n",
      "Epoch 78/100\n",
      "33600/33600 [==============================] - 4s 108us/step - loss: 0.0073 - acc: 0.9980\n",
      "Epoch 79/100\n",
      "33600/33600 [==============================] - 4s 109us/step - loss: 0.0099 - acc: 0.9973\n",
      "Epoch 80/100\n"
     ]
    },
    {
     "name": "stdout",
     "output_type": "stream",
     "text": [
      "33600/33600 [==============================] - 5s 135us/step - loss: 0.0104 - acc: 0.9976\n",
      "Epoch 81/100\n",
      "33600/33600 [==============================] - 4s 128us/step - loss: 0.0096 - acc: 0.9973\n",
      "Epoch 82/100\n",
      "33600/33600 [==============================] - 4s 114us/step - loss: 0.0104 - acc: 0.9977\n",
      "Epoch 83/100\n",
      "33600/33600 [==============================] - 4s 107us/step - loss: 0.0110 - acc: 0.9979\n",
      "Epoch 84/100\n",
      "33600/33600 [==============================] - 4s 115us/step - loss: 0.0112 - acc: 0.9979\n",
      "Epoch 85/100\n",
      "33600/33600 [==============================] - 6s 185us/step - loss: 0.0167 - acc: 0.9961\n",
      "Epoch 86/100\n",
      "33600/33600 [==============================] - 5s 137us/step - loss: 0.0060 - acc: 0.9988\n",
      "Epoch 87/100\n",
      "33600/33600 [==============================] - 5s 148us/step - loss: 0.0051 - acc: 0.9988\n",
      "Epoch 88/100\n",
      "33600/33600 [==============================] - 4s 116us/step - loss: 0.0129 - acc: 0.9972\n",
      "Epoch 89/100\n",
      "33600/33600 [==============================] - 4s 107us/step - loss: 0.0128 - acc: 0.9971\n",
      "Epoch 90/100\n",
      "33600/33600 [==============================] - 3s 104us/step - loss: 0.0095 - acc: 0.9981\n",
      "Epoch 91/100\n",
      "33600/33600 [==============================] - 4s 105us/step - loss: 0.0109 - acc: 0.9977\n",
      "Epoch 92/100\n",
      "33600/33600 [==============================] - 3s 102us/step - loss: 0.0093 - acc: 0.9982\n",
      "Epoch 93/100\n",
      "33600/33600 [==============================] - 3s 98us/step - loss: 0.0053 - acc: 0.9987\n",
      "Epoch 94/100\n",
      "33600/33600 [==============================] - 3s 100us/step - loss: 0.0104 - acc: 0.9980\n",
      "Epoch 95/100\n",
      "33600/33600 [==============================] - 4s 111us/step - loss: 0.0133 - acc: 0.9973\n",
      "Epoch 96/100\n",
      "33600/33600 [==============================] - 4s 107us/step - loss: 0.0116 - acc: 0.9979\n",
      "Epoch 97/100\n",
      "33600/33600 [==============================] - 4s 111us/step - loss: 0.0074 - acc: 0.9985\n",
      "Epoch 98/100\n",
      "33600/33600 [==============================] - 4s 110us/step - loss: 0.0132 - acc: 0.9976\n",
      "Epoch 99/100\n",
      "33600/33600 [==============================] - 4s 108us/step - loss: 0.0121 - acc: 0.9972\n",
      "Epoch 100/100\n",
      "33600/33600 [==============================] - 4s 111us/step - loss: 0.0100 - acc: 0.9979\n"
     ]
    },
    {
     "data": {
      "text/plain": [
       "<keras.callbacks.History at 0x7f5e5c7b3f98>"
      ]
     },
     "execution_count": 14,
     "metadata": {},
     "output_type": "execute_result"
    }
   ],
   "source": [
    "model.fit(X_train, y_train, epochs=100, batch_size=50)"
   ]
  },
  {
   "cell_type": "code",
   "execution_count": 15,
   "metadata": {
    "collapsed": true
   },
   "outputs": [],
   "source": [
    "#prediction\n",
    "y_pre = model.predict_classes(X_test)"
   ]
  },
  {
   "cell_type": "code",
   "execution_count": 16,
   "metadata": {
    "collapsed": true,
    "scrolled": true
   },
   "outputs": [],
   "source": [
    "#let's from one hot encoding to class format\n",
    "y_test_cls = np.argmax(y_test, axis=1)"
   ]
  },
  {
   "cell_type": "code",
   "execution_count": 17,
   "metadata": {},
   "outputs": [
    {
     "name": "stdout",
     "output_type": "stream",
     "text": [
      "Accurcy --  97.0\n"
     ]
    }
   ],
   "source": [
    "#Accuracy\n",
    "from sklearn.metrics import confusion_matrix, accuracy_score\n",
    "print(\"Accurcy -- \", accuracy_score(y_test_cls, y_pre)*100)"
   ]
  },
  {
   "cell_type": "code",
   "execution_count": 18,
   "metadata": {},
   "outputs": [
    {
     "data": {
      "image/png": "[encoded data removed]",
      "text/plain": [
       "<matplotlib.figure.Figure at 0x7f5e400a26a0>"
      ]
     },
     "metadata": {},
     "output_type": "display_data"
    }
   ],
   "source": [
    "#let's plot confusion matrix\n",
    "cm = confusion_matrix(y_test_cls, y_pre)\n",
    "plt.figure(figsize=(10, 7))\n",
    "sb.heatmap(cm, annot=True, fmt='g')\n",
    "plt.show()"
   ]
  }
 ],
 "metadata": {
  "kernelspec": {
   "display_name": "Python 3",
   "language": "python",
   "name": "python3"
  },
  "language_info": {
   "codemirror_mode": {
    "name": "ipython",
    "version": 3
   },
   "file_extension": ".py",
   "mimetype": "text/x-python",
   "name": "python",
   "nbconvert_exporter": "python",
   "pygments_lexer": "ipython3",
   "version": "3.6.3"
  }
 },
 "nbformat": 4,
 "nbformat_minor": 2
}

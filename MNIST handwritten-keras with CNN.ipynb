{
 "cells": [
  {
   "cell_type": "code",
   "execution_count": 1,
   "metadata": {
    "collapsed": true,
    "scrolled": true
   },
   "outputs": [],
   "source": [
    "#import needed libraries\n",
    "import numpy as np\n",
    "import matplotlib.pyplot as plt\n",
    "import seaborn as sb\n",
    "import pandas as pd\n",
    "%matplotlib inline"
   ]
  },
  {
   "cell_type": "code",
   "execution_count": 2,
   "metadata": {},
   "outputs": [
    {
     "data": {
      "text/html": [
       "<div>\n",
       "<style>\n",
       "    .dataframe thead tr:only-child th {\n",
       "        text-align: right;\n",
       "    }\n",
       "\n",
       "    .dataframe thead th {\n",
       "        text-align: left;\n",
       "    }\n",
       "\n",
       "    .dataframe tbody tr th {\n",
       "        vertical-align: top;\n",
       "    }\n",
       "</style>\n",
       "<table border=\"1\" class=\"dataframe\">\n",
       "  <thead>\n",
       "    <tr style=\"text-align: right;\">\n",
       "      <th></th>\n",
       "      <th>label</th>\n",
       "      <th>pixel0</th>\n",
       "      <th>pixel1</th>\n",
       "      <th>pixel2</th>\n",
       "      <th>pixel3</th>\n",
       "      <th>pixel4</th>\n",
       "      <th>pixel5</th>\n",
       "      <th>pixel6</th>\n",
       "      <th>pixel7</th>\n",
       "      <th>pixel8</th>\n",
       "      <th>...</th>\n",
       "      <th>pixel774</th>\n",
       "      <th>pixel775</th>\n",
       "      <th>pixel776</th>\n",
       "      <th>pixel777</th>\n",
       "      <th>pixel778</th>\n",
       "      <th>pixel779</th>\n",
       "      <th>pixel780</th>\n",
       "      <th>pixel781</th>\n",
       "      <th>pixel782</th>\n",
       "      <th>pixel783</th>\n",
       "    </tr>\n",
       "  </thead>\n",
       "  <tbody>\n",
       "    <tr>\n",
       "      <th>0</th>\n",
       "      <td>1</td>\n",
       "      <td>0</td>\n",
       "      <td>0</td>\n",
       "      <td>0</td>\n",
       "      <td>0</td>\n",
       "      <td>0</td>\n",
       "      <td>0</td>\n",
       "      <td>0</td>\n",
       "      <td>0</td>\n",
       "      <td>0</td>\n",
       "      <td>...</td>\n",
       "      <td>0</td>\n",
       "      <td>0</td>\n",
       "      <td>0</td>\n",
       "      <td>0</td>\n",
       "      <td>0</td>\n",
       "      <td>0</td>\n",
       "      <td>0</td>\n",
       "      <td>0</td>\n",
       "      <td>0</td>\n",
       "      <td>0</td>\n",
       "    </tr>\n",
       "    <tr>\n",
       "      <th>1</th>\n",
       "      <td>0</td>\n",
       "      <td>0</td>\n",
       "      <td>0</td>\n",
       "      <td>0</td>\n",
       "      <td>0</td>\n",
       "      <td>0</td>\n",
       "      <td>0</td>\n",
       "      <td>0</td>\n",
       "      <td>0</td>\n",
       "      <td>0</td>\n",
       "      <td>...</td>\n",
       "      <td>0</td>\n",
       "      <td>0</td>\n",
       "      <td>0</td>\n",
       "      <td>0</td>\n",
       "      <td>0</td>\n",
       "      <td>0</td>\n",
       "      <td>0</td>\n",
       "      <td>0</td>\n",
       "      <td>0</td>\n",
       "      <td>0</td>\n",
       "    </tr>\n",
       "    <tr>\n",
       "      <th>2</th>\n",
       "      <td>1</td>\n",
       "      <td>0</td>\n",
       "      <td>0</td>\n",
       "      <td>0</td>\n",
       "      <td>0</td>\n",
       "      <td>0</td>\n",
       "      <td>0</td>\n",
       "      <td>0</td>\n",
       "      <td>0</td>\n",
       "      <td>0</td>\n",
       "      <td>...</td>\n",
       "      <td>0</td>\n",
       "      <td>0</td>\n",
       "      <td>0</td>\n",
       "      <td>0</td>\n",
       "      <td>0</td>\n",
       "      <td>0</td>\n",
       "      <td>0</td>\n",
       "      <td>0</td>\n",
       "      <td>0</td>\n",
       "      <td>0</td>\n",
       "    </tr>\n",
       "    <tr>\n",
       "      <th>3</th>\n",
       "      <td>4</td>\n",
       "      <td>0</td>\n",
       "      <td>0</td>\n",
       "      <td>0</td>\n",
       "      <td>0</td>\n",
       "      <td>0</td>\n",
       "      <td>0</td>\n",
       "      <td>0</td>\n",
       "      <td>0</td>\n",
       "      <td>0</td>\n",
       "      <td>...</td>\n",
       "      <td>0</td>\n",
       "      <td>0</td>\n",
       "      <td>0</td>\n",
       "      <td>0</td>\n",
       "      <td>0</td>\n",
       "      <td>0</td>\n",
       "      <td>0</td>\n",
       "      <td>0</td>\n",
       "      <td>0</td>\n",
       "      <td>0</td>\n",
       "    </tr>\n",
       "    <tr>\n",
       "      <th>4</th>\n",
       "      <td>0</td>\n",
       "      <td>0</td>\n",
       "      <td>0</td>\n",
       "      <td>0</td>\n",
       "      <td>0</td>\n",
       "      <td>0</td>\n",
       "      <td>0</td>\n",
       "      <td>0</td>\n",
       "      <td>0</td>\n",
       "      <td>0</td>\n",
       "      <td>...</td>\n",
       "      <td>0</td>\n",
       "      <td>0</td>\n",
       "      <td>0</td>\n",
       "      <td>0</td>\n",
       "      <td>0</td>\n",
       "      <td>0</td>\n",
       "      <td>0</td>\n",
       "      <td>0</td>\n",
       "      <td>0</td>\n",
       "      <td>0</td>\n",
       "    </tr>\n",
       "  </tbody>\n",
       "</table>\n",
       "<p>5 rows × 785 columns</p>\n",
       "</div>"
      ],
      "text/plain": [
       "   label  pixel0  pixel1  pixel2  pixel3  pixel4  pixel5  pixel6  pixel7  \\\n",
       "0      1       0       0       0       0       0       0       0       0   \n",
       "1      0       0       0       0       0       0       0       0       0   \n",
       "2      1       0       0       0       0       0       0       0       0   \n",
       "3      4       0       0       0       0       0       0       0       0   \n",
       "4      0       0       0       0       0       0       0       0       0   \n",
       "\n",
       "   pixel8    ...     pixel774  pixel775  pixel776  pixel777  pixel778  \\\n",
       "0       0    ...            0         0         0         0         0   \n",
       "1       0    ...            0         0         0         0         0   \n",
       "2       0    ...            0         0         0         0         0   \n",
       "3       0    ...            0         0         0         0         0   \n",
       "4       0    ...            0         0         0         0         0   \n",
       "\n",
       "   pixel779  pixel780  pixel781  pixel782  pixel783  \n",
       "0         0         0         0         0         0  \n",
       "1         0         0         0         0         0  \n",
       "2         0         0         0         0         0  \n",
       "3         0         0         0         0         0  \n",
       "4         0         0         0         0         0  \n",
       "\n",
       "[5 rows x 785 columns]"
      ]
     },
     "execution_count": 2,
     "metadata": {},
     "output_type": "execute_result"
    }
   ],
   "source": [
    "#load data\n",
    "digit = pd.read_csv('MNIST.csv')\n",
    "digit.head()"
   ]
  },
  {
   "cell_type": "code",
   "execution_count": 3,
   "metadata": {},
   "outputs": [
    {
     "data": {
      "text/plain": [
       "(42000, 785)"
      ]
     },
     "execution_count": 3,
     "metadata": {},
     "output_type": "execute_result"
    }
   ],
   "source": [
    "#shape\n",
    "digit.shape"
   ]
  },
  {
   "cell_type": "markdown",
   "metadata": {},
   "source": [
    "### Let's check about missing values"
   ]
  },
  {
   "cell_type": "code",
   "execution_count": 4,
   "metadata": {
    "scrolled": false
   },
   "outputs": [
    {
     "data": {
      "text/plain": [
       "count       785\n",
       "unique        1\n",
       "top       False\n",
       "freq        785\n",
       "dtype: object"
      ]
     },
     "execution_count": 4,
     "metadata": {},
     "output_type": "execute_result"
    }
   ],
   "source": [
    "digit.isnull().any().describe()"
   ]
  },
  {
   "cell_type": "markdown",
   "metadata": {},
   "source": [
    "there is no any missing values"
   ]
  },
  {
   "cell_type": "code",
   "execution_count": 5,
   "metadata": {
    "collapsed": true
   },
   "outputs": [],
   "source": [
    "#let's seprate the target variable\n",
    "y = digit['label'].values\n",
    "del digit['label']"
   ]
  },
  {
   "cell_type": "code",
   "execution_count": 8,
   "metadata": {},
   "outputs": [
    {
     "data": {
      "image/png": "[encoded data removed]",
      "text/plain": [
       "<matplotlib.figure.Figure at 0x7f037b4a5908>"
      ]
     },
     "metadata": {},
     "output_type": "display_data"
    }
   ],
   "source": [
    "#count plot of target variable\n",
    "sb.countplot(y)\n",
    "plt.show()"
   ]
  },
  {
   "cell_type": "code",
   "execution_count": 6,
   "metadata": {
    "collapsed": true
   },
   "outputs": [],
   "source": [
    "#Normalization\n",
    "digit = digit/255.0"
   ]
  },
  {
   "cell_type": "code",
   "execution_count": 9,
   "metadata": {
    "collapsed": true
   },
   "outputs": [],
   "source": [
    "#Reshape the data\n",
    "X = digit.values.reshape(len(digit), 28, 28, 1)"
   ]
  },
  {
   "cell_type": "code",
   "execution_count": 10,
   "metadata": {},
   "outputs": [
    {
     "name": "stderr",
     "output_type": "stream",
     "text": [
      "Using TensorFlow backend.\n"
     ]
    }
   ],
   "source": [
    "#Converting target to categorical features\n",
    "from keras.utils.np_utils import to_categorical\n",
    "y = to_categorical(y)"
   ]
  },
  {
   "cell_type": "code",
   "execution_count": 11,
   "metadata": {},
   "outputs": [
    {
     "data": {
      "text/plain": [
       "array([[ 0.,  1.,  0., ...,  0.,  0.,  0.],\n",
       "       [ 1.,  0.,  0., ...,  0.,  0.,  0.],\n",
       "       [ 0.,  1.,  0., ...,  0.,  0.,  0.],\n",
       "       ..., \n",
       "       [ 0.,  0.,  0., ...,  1.,  0.,  0.],\n",
       "       [ 0.,  0.,  0., ...,  0.,  0.,  0.],\n",
       "       [ 0.,  0.,  0., ...,  0.,  0.,  1.]])"
      ]
     },
     "execution_count": 11,
     "metadata": {},
     "output_type": "execute_result"
    }
   ],
   "source": [
    "y  #categorical formate"
   ]
  },
  {
   "cell_type": "code",
   "execution_count": 13,
   "metadata": {
    "collapsed": true
   },
   "outputs": [],
   "source": [
    "#split the data into train and test \n",
    "from sklearn.model_selection import train_test_split\n",
    "X_train, X_test, y_train, y_test = train_test_split(X, y, test_size=0.20, random_state=7)"
   ]
  },
  {
   "cell_type": "markdown",
   "metadata": {},
   "source": [
    "## Train the CNN model"
   ]
  },
  {
   "cell_type": "code",
   "execution_count": 14,
   "metadata": {
    "collapsed": true
   },
   "outputs": [],
   "source": [
    "#import keras\n",
    "from keras.models import Sequential\n",
    "from keras.layers import Dense, Dropout, Flatten\n",
    "from keras.layers.convolutional import Convolution2D, MaxPooling2D"
   ]
  },
  {
   "cell_type": "code",
   "execution_count": 15,
   "metadata": {},
   "outputs": [
    {
     "name": "stderr",
     "output_type": "stream",
     "text": [
      "/home/surya/anaconda3/lib/python3.6/site-packages/ipykernel_launcher.py:2: UserWarning: Update your `Conv2D` call to the Keras 2 API: `Conv2D(32, (3, 3), input_shape=(28, 28, 1..., activation=\"relu\")`\n",
      "  \n"
     ]
    }
   ],
   "source": [
    "#train model\n",
    "model = Sequential()\n",
    "model.add(Convolution2D(32, 3, 3, input_shape=(28, 28, 1), activation='relu'))\n",
    "model.add(MaxPooling2D(pool_size=(2,2)))\n",
    "model.add(Dropout(0.25))\n",
    "\n",
    "model.add(Convolution2D(32, (3,3), activation='relu'))\n",
    "model.add(MaxPooling2D(pool_size=(2, 2)))\n",
    "model.add(Dropout(0.20))\n",
    "\n",
    "model.add(Flatten())\n",
    "model.add(Dense(200))\n",
    "model.add(Dropout(0.5))\n",
    "model.add(Dense(10, activation='softmax'))"
   ]
  },
  {
   "cell_type": "code",
   "execution_count": 16,
   "metadata": {
    "collapsed": true
   },
   "outputs": [],
   "source": [
    "#compile the model\n",
    "model.compile(loss='categorical_crossentropy', optimizer='adam', metrics=['accuracy'])"
   ]
  },
  {
   "cell_type": "code",
   "execution_count": 17,
   "metadata": {
    "scrolled": false
   },
   "outputs": [
    {
     "name": "stdout",
     "output_type": "stream",
     "text": [
      "_________________________________________________________________\n",
      "Layer (type)                 Output Shape              Param #   \n",
      "=================================================================\n",
      "conv2d_1 (Conv2D)            (None, 26, 26, 32)        320       \n",
      "_________________________________________________________________\n",
      "max_pooling2d_1 (MaxPooling2 (None, 13, 13, 32)        0         \n",
      "_________________________________________________________________\n",
      "dropout_1 (Dropout)          (None, 13, 13, 32)        0         \n",
      "_________________________________________________________________\n",
      "conv2d_2 (Conv2D)            (None, 11, 11, 32)        9248      \n",
      "_________________________________________________________________\n",
      "max_pooling2d_2 (MaxPooling2 (None, 5, 5, 32)          0         \n",
      "_________________________________________________________________\n",
      "dropout_2 (Dropout)          (None, 5, 5, 32)          0         \n",
      "_________________________________________________________________\n",
      "flatten_1 (Flatten)          (None, 800)               0         \n",
      "_________________________________________________________________\n",
      "dense_1 (Dense)              (None, 200)               160200    \n",
      "_________________________________________________________________\n",
      "dropout_3 (Dropout)          (None, 200)               0         \n",
      "_________________________________________________________________\n",
      "dense_2 (Dense)              (None, 10)                2010      \n",
      "=================================================================\n",
      "Total params: 171,778\n",
      "Trainable params: 171,778\n",
      "Non-trainable params: 0\n",
      "_________________________________________________________________\n"
     ]
    }
   ],
   "source": [
    "#summary of model\n",
    "model.summary()"
   ]
  },
  {
   "cell_type": "code",
   "execution_count": 18,
   "metadata": {
    "scrolled": true
   },
   "outputs": [
    {
     "name": "stdout",
     "output_type": "stream",
     "text": [
      "Train on 33600 samples, validate on 8400 samples\n",
      "Epoch 1/50\n",
      "33600/33600 [==============================] - 53s 2ms/step - loss: 0.2613 - acc: 0.9181 - val_loss: 0.0878 - val_acc: 0.9750\n",
      "Epoch 2/50\n",
      "33600/33600 [==============================] - 69s 2ms/step - loss: 0.0989 - acc: 0.9692 - val_loss: 0.0649 - val_acc: 0.9812\n",
      "Epoch 3/50\n",
      "33600/33600 [==============================] - 67s 2ms/step - loss: 0.0759 - acc: 0.9751 - val_loss: 0.0555 - val_acc: 0.9832\n",
      "Epoch 4/50\n",
      "33600/33600 [==============================] - 68s 2ms/step - loss: 0.0677 - acc: 0.9785 - val_loss: 0.0572 - val_acc: 0.9825\n",
      "Epoch 5/50\n",
      "33600/33600 [==============================] - 70s 2ms/step - loss: 0.0595 - acc: 0.9800 - val_loss: 0.0530 - val_acc: 0.9849\n",
      "Epoch 6/50\n",
      "33600/33600 [==============================] - 71s 2ms/step - loss: 0.0572 - acc: 0.9817 - val_loss: 0.0479 - val_acc: 0.9869\n",
      "Epoch 7/50\n",
      "33600/33600 [==============================] - 77s 2ms/step - loss: 0.0544 - acc: 0.9826 - val_loss: 0.0518 - val_acc: 0.9855\n",
      "Epoch 8/50\n",
      "33600/33600 [==============================] - 72s 2ms/step - loss: 0.0477 - acc: 0.9845 - val_loss: 0.0496 - val_acc: 0.9867\n",
      "Epoch 9/50\n",
      "33600/33600 [==============================] - 76s 2ms/step - loss: 0.0499 - acc: 0.9839 - val_loss: 0.0539 - val_acc: 0.9839\n",
      "Epoch 10/50\n",
      "33600/33600 [==============================] - 77s 2ms/step - loss: 0.0449 - acc: 0.9860 - val_loss: 0.0487 - val_acc: 0.9862\n",
      "Epoch 11/50\n",
      "33600/33600 [==============================] - 75s 2ms/step - loss: 0.0399 - acc: 0.9869 - val_loss: 0.0535 - val_acc: 0.9864\n",
      "Epoch 12/50\n",
      "33600/33600 [==============================] - 79s 2ms/step - loss: 0.0413 - acc: 0.9866 - val_loss: 0.0484 - val_acc: 0.9862\n",
      "Epoch 13/50\n",
      "33600/33600 [==============================] - 82s 2ms/step - loss: 0.0372 - acc: 0.9884 - val_loss: 0.0480 - val_acc: 0.9873\n",
      "Epoch 14/50\n",
      "33600/33600 [==============================] - 78s 2ms/step - loss: 0.0405 - acc: 0.9864 - val_loss: 0.0515 - val_acc: 0.9865\n",
      "Epoch 15/50\n",
      "33600/33600 [==============================] - 83s 2ms/step - loss: 0.0383 - acc: 0.9876 - val_loss: 0.0433 - val_acc: 0.9871\n",
      "Epoch 16/50\n",
      "33600/33600 [==============================] - 79s 2ms/step - loss: 0.0344 - acc: 0.9890 - val_loss: 0.0492 - val_acc: 0.9889\n",
      "Epoch 17/50\n",
      "33600/33600 [==============================] - 77s 2ms/step - loss: 0.0346 - acc: 0.9887 - val_loss: 0.0579 - val_acc: 0.9862\n",
      "Epoch 18/50\n",
      "33600/33600 [==============================] - 91s 3ms/step - loss: 0.0379 - acc: 0.9880 - val_loss: 0.0484 - val_acc: 0.9886\n",
      "Epoch 19/50\n",
      "33600/33600 [==============================] - 79s 2ms/step - loss: 0.0342 - acc: 0.9888 - val_loss: 0.0554 - val_acc: 0.9845\n",
      "Epoch 20/50\n",
      "33600/33600 [==============================] - 63s 2ms/step - loss: 0.0348 - acc: 0.9889 - val_loss: 0.0534 - val_acc: 0.9871\n",
      "Epoch 21/50\n",
      "33600/33600 [==============================] - 62s 2ms/step - loss: 0.0340 - acc: 0.9892 - val_loss: 0.0467 - val_acc: 0.9879\n",
      "Epoch 22/50\n",
      "33600/33600 [==============================] - 62s 2ms/step - loss: 0.0328 - acc: 0.9893 - val_loss: 0.0457 - val_acc: 0.9876\n",
      "Epoch 23/50\n",
      "33600/33600 [==============================] - 75s 2ms/step - loss: 0.0325 - acc: 0.9896 - val_loss: 0.0505 - val_acc: 0.9876\n",
      "Epoch 24/50\n",
      "33600/33600 [==============================] - 79s 2ms/step - loss: 0.0315 - acc: 0.9897 - val_loss: 0.0519 - val_acc: 0.9873\n",
      "Epoch 25/50\n",
      "33600/33600 [==============================] - 81s 2ms/step - loss: 0.0299 - acc: 0.9896 - val_loss: 0.0498 - val_acc: 0.9880\n",
      "Epoch 26/50\n",
      "33600/33600 [==============================] - 80s 2ms/step - loss: 0.0300 - acc: 0.9897 - val_loss: 0.0479 - val_acc: 0.9877\n",
      "Epoch 27/50\n",
      "33600/33600 [==============================] - 77s 2ms/step - loss: 0.0310 - acc: 0.9900 - val_loss: 0.0479 - val_acc: 0.9877\n",
      "Epoch 28/50\n",
      "33600/33600 [==============================] - 90s 3ms/step - loss: 0.0298 - acc: 0.9906 - val_loss: 0.0502 - val_acc: 0.9890\n",
      "Epoch 29/50\n",
      "33600/33600 [==============================] - 95s 3ms/step - loss: 0.0284 - acc: 0.9904 - val_loss: 0.0448 - val_acc: 0.9882\n",
      "Epoch 30/50\n",
      "33600/33600 [==============================] - 93s 3ms/step - loss: 0.0321 - acc: 0.9903 - val_loss: 0.0522 - val_acc: 0.9875\n",
      "Epoch 31/50\n",
      "33600/33600 [==============================] - 94s 3ms/step - loss: 0.0314 - acc: 0.9901 - val_loss: 0.0462 - val_acc: 0.9875\n",
      "Epoch 32/50\n",
      "33600/33600 [==============================] - 89s 3ms/step - loss: 0.0274 - acc: 0.9913 - val_loss: 0.0491 - val_acc: 0.9883\n",
      "Epoch 33/50\n",
      "33600/33600 [==============================] - 98s 3ms/step - loss: 0.0290 - acc: 0.9906 - val_loss: 0.0479 - val_acc: 0.9886\n",
      "Epoch 34/50\n",
      "33600/33600 [==============================] - 94s 3ms/step - loss: 0.0305 - acc: 0.9899 - val_loss: 0.0548 - val_acc: 0.9877\n",
      "Epoch 35/50\n",
      "33600/33600 [==============================] - 92s 3ms/step - loss: 0.0289 - acc: 0.9909 - val_loss: 0.0468 - val_acc: 0.9869\n",
      "Epoch 36/50\n",
      "33600/33600 [==============================] - 96s 3ms/step - loss: 0.0282 - acc: 0.9907 - val_loss: 0.0528 - val_acc: 0.9882\n",
      "Epoch 37/50\n",
      "33600/33600 [==============================] - 100s 3ms/step - loss: 0.0258 - acc: 0.9913 - val_loss: 0.0444 - val_acc: 0.9886\n",
      "Epoch 38/50\n",
      "33600/33600 [==============================] - 99s 3ms/step - loss: 0.0291 - acc: 0.9907 - val_loss: 0.0479 - val_acc: 0.9873\n",
      "Epoch 39/50\n",
      "33600/33600 [==============================] - 98s 3ms/step - loss: 0.0278 - acc: 0.9914 - val_loss: 0.0490 - val_acc: 0.9890\n",
      "Epoch 40/50\n",
      "33600/33600 [==============================] - 95s 3ms/step - loss: 0.0270 - acc: 0.9913 - val_loss: 0.0476 - val_acc: 0.9885\n",
      "Epoch 41/50\n",
      "33600/33600 [==============================] - 91s 3ms/step - loss: 0.0289 - acc: 0.9908 - val_loss: 0.0495 - val_acc: 0.9885\n",
      "Epoch 42/50\n",
      "33600/33600 [==============================] - 98s 3ms/step - loss: 0.0288 - acc: 0.9912 - val_loss: 0.0558 - val_acc: 0.9865\n",
      "Epoch 43/50\n",
      "33600/33600 [==============================] - 91s 3ms/step - loss: 0.0268 - acc: 0.9912 - val_loss: 0.0533 - val_acc: 0.9868\n",
      "Epoch 44/50\n",
      "33600/33600 [==============================] - 91s 3ms/step - loss: 0.0260 - acc: 0.9919 - val_loss: 0.0506 - val_acc: 0.9874\n",
      "Epoch 45/50\n",
      "33600/33600 [==============================] - 95s 3ms/step - loss: 0.0269 - acc: 0.9908 - val_loss: 0.0555 - val_acc: 0.9876\n",
      "Epoch 46/50\n",
      "33600/33600 [==============================] - 91s 3ms/step - loss: 0.0247 - acc: 0.9917 - val_loss: 0.0517 - val_acc: 0.9889\n",
      "Epoch 47/50\n",
      "33600/33600 [==============================] - 93s 3ms/step - loss: 0.0258 - acc: 0.9918 - val_loss: 0.0664 - val_acc: 0.9873\n",
      "Epoch 48/50\n",
      "33600/33600 [==============================] - 76s 2ms/step - loss: 0.0259 - acc: 0.9919 - val_loss: 0.0559 - val_acc: 0.9881\n",
      "Epoch 49/50\n",
      "33600/33600 [==============================] - 74s 2ms/step - loss: 0.0296 - acc: 0.9912 - val_loss: 0.0510 - val_acc: 0.9879\n",
      "Epoch 50/50\n",
      "33600/33600 [==============================] - 72s 2ms/step - loss: 0.0242 - acc: 0.9925 - val_loss: 0.0504 - val_acc: 0.9888\n"
     ]
    }
   ],
   "source": [
    "#fitting the model\n",
    "hist = model.fit(X_train, y_train, validation_data=(X_test, y_test), epochs=50, batch_size=32)"
   ]
  },
  {
   "cell_type": "code",
   "execution_count": 30,
   "metadata": {
    "scrolled": true
   },
   "outputs": [
    {
     "data": {
      "image/png": "[encoded data removed]",
      "text/plain": [
       "<matplotlib.figure.Figure at 0x7f03353d55c0>"
      ]
     },
     "metadata": {},
     "output_type": "display_data"
    }
   ],
   "source": [
    "plt.plot(hist.history['acc'])\n",
    "plt.plot(hist.history['val_acc'])\n",
    "plt.legend(['training', 'validation'], loc='lower right')\n",
    "plt.show()"
   ]
  },
  {
   "cell_type": "code",
   "execution_count": 20,
   "metadata": {},
   "outputs": [
    {
     "data": {
      "image/png": "[encoded data removed]",
      "text/plain": [
       "<matplotlib.figure.Figure at 0x7f035c15ccf8>"
      ]
     },
     "metadata": {},
     "output_type": "display_data"
    }
   ],
   "source": [
    "plt.plot(hist.history['loss'])\n",
    "plt.plot(hist.history['val_loss'])\n",
    "plt.legend(['training', 'validation'], loc='upper right')\n",
    "plt.show()"
   ]
  },
  {
   "cell_type": "code",
   "execution_count": 21,
   "metadata": {
    "collapsed": true
   },
   "outputs": [],
   "source": [
    "#Predicting test data\n",
    "y_pred = model.predict_classes(X_test)"
   ]
  },
  {
   "cell_type": "code",
   "execution_count": 24,
   "metadata": {
    "collapsed": true
   },
   "outputs": [],
   "source": [
    "#Arrange\n",
    "y_test_cls = np.argmax(y_test, axis=1)"
   ]
  },
  {
   "cell_type": "code",
   "execution_count": 25,
   "metadata": {},
   "outputs": [],
   "source": [
    "#Confusion matrix\n",
    "from sklearn.metrics import confusion_matrix, accuracy_score\n",
    "cm = confusion_matrix(y_pred, y_test_cls)"
   ]
  },
  {
   "cell_type": "code",
   "execution_count": 29,
   "metadata": {},
   "outputs": [
    {
     "data": {
      "image/png": "[encoded data removed]",
      "text/plain": [
       "<matplotlib.figure.Figure at 0x7f03353e0940>"
      ]
     },
     "metadata": {},
     "output_type": "display_data"
    }
   ],
   "source": [
    "plt.figure(figsize=(8, 5))\n",
    "sb.set(font_scale=1.2)\n",
    "sb.heatmap(cm, annot=True, fmt='g')\n",
    "plt.show()"
   ]
  },
  {
   "cell_type": "code",
   "execution_count": 27,
   "metadata": {},
   "outputs": [
    {
     "name": "stdout",
     "output_type": "stream",
     "text": [
      "8400/8400 [==============================] - 4s 432us/step\n",
      "Accuracy :  98.880952381\n"
     ]
    }
   ],
   "source": [
    "# Evaluate data\n",
    "score = model.evaluate(X_test, y_test)\n",
    "print('Accuracy : ', score[1]*100)"
   ]
  }
 ],
 "metadata": {
  "kernelspec": {
   "display_name": "Python 3",
   "language": "python",
   "name": "python3"
  },
  "language_info": {
   "codemirror_mode": {
    "name": "ipython",
    "version": 3
   },
   "file_extension": ".py",
   "mimetype": "text/x-python",
   "name": "python",
   "nbconvert_exporter": "python",
   "pygments_lexer": "ipython3",
   "version": "3.6.3"
  }
 },
 "nbformat": 4,
 "nbformat_minor": 2
}
